{
  "nbformat": 4,
  "nbformat_minor": 0,
  "metadata": {
    "kernelspec": {
      "name": "python3",
      "display_name": "Python 3"
    },
    "language_info": {
      "codemirror_mode": {
        "name": "ipython",
        "version": 3
      },
      "file_extension": ".py",
      "mimetype": "text/x-python",
      "name": "python",
      "nbconvert_exporter": "python",
      "pygments_lexer": "ipython3",
      "version": "3.7.4"
    },
    "colab": {
      "name": "lstm.ipynb",
      "provenance": [],
      "collapsed_sections": [],
      "include_colab_link": true
    },
    "accelerator": "GPU"
  },
  "cells": [
    {
      "cell_type": "markdown",
      "metadata": {
        "id": "view-in-github",
        "colab_type": "text"
      },
      "source": [
        "<a href=\"https://colab.research.google.com/github/masoudem/solar-power-forecasting-with-LSTM/blob/main/lstm.ipynb\" target=\"_parent\"><img src=\"https://colab.research.google.com/assets/colab-badge.svg\" alt=\"Open In Colab\"/></a>"
      ]
    },
    {
      "cell_type": "code",
      "metadata": {
        "id": "UaokGBwwlwir",
        "colab": {
          "base_uri": "https://localhost:8080/"
        },
        "outputId": "3f5994ea-75a8-4064-a676-82f4486d8b1f"
      },
      "source": [
        "#مشخص کردن میزان سخت افزار\n",
        "!nvidia-smi"
      ],
      "execution_count": null,
      "outputs": [
        {
          "output_type": "stream",
          "name": "stdout",
          "text": [
            "Sat Sep 25 18:43:50 2021       \n",
            "+-----------------------------------------------------------------------------+\n",
            "| NVIDIA-SMI 470.63.01    Driver Version: 460.32.03    CUDA Version: 11.2     |\n",
            "|-------------------------------+----------------------+----------------------+\n",
            "| GPU  Name        Persistence-M| Bus-Id        Disp.A | Volatile Uncorr. ECC |\n",
            "| Fan  Temp  Perf  Pwr:Usage/Cap|         Memory-Usage | GPU-Util  Compute M. |\n",
            "|                               |                      |               MIG M. |\n",
            "|===============================+======================+======================|\n",
            "|   0  Tesla K80           Off  | 00000000:00:04.0 Off |                    0 |\n",
            "| N/A   35C    P8    26W / 149W |      0MiB / 11441MiB |      0%      Default |\n",
            "|                               |                      |                  N/A |\n",
            "+-------------------------------+----------------------+----------------------+\n",
            "                                                                               \n",
            "+-----------------------------------------------------------------------------+\n",
            "| Processes:                                                                  |\n",
            "|  GPU   GI   CI        PID   Type   Process name                  GPU Memory |\n",
            "|        ID   ID                                                   Usage      |\n",
            "|=============================================================================|\n",
            "|  No running processes found                                                 |\n",
            "+-----------------------------------------------------------------------------+\n"
          ]
        }
      ]
    },
    {
      "cell_type": "markdown",
      "metadata": {
        "id": "gh3cpvX5lCRQ"
      },
      "source": [
        "#### Different methods for predicting output power"
      ]
    },
    {
      "cell_type": "markdown",
      "metadata": {
        "id": "DQIJyoaNlCRT"
      },
      "source": [
        "#### Python libraris, as follows:"
      ]
    },
    {
      "cell_type": "code",
      "metadata": {
        "id": "Ds_SO58wlCRU"
      },
      "source": [
        "#کتابخانه های مورد نیاز برای اجرای کدها\n",
        "import pandas as pd\n",
        "import seaborn as sns\n",
        "import plotly.offline as py\n",
        "import plotly.graph_objs as go\n",
        "from datetime import datetime\n",
        "import math\n",
        "from math import sqrt\n",
        "from matplotlib import pyplot\n",
        "import matplotlib.pyplot as plt\n",
        "py.init_notebook_mode(connected=True)\n",
        "%matplotlib inline\n",
        "import numpy\n",
        "import numpy as np\n",
        "from numpy import mean, std, array, argmax, concatenate\n",
        "from keras.models import Sequential, load_model\n",
        "from keras.layers import Activation, Bidirectional,BatchNormalization \n",
        "from keras.layers import Dense, LSTM, Dropout, RepeatVector, TimeDistributed, Bidirectional\n",
        "from sklearn.metrics import accuracy_score, mean_squared_error\n",
        "from sklearn.preprocessing import MinMaxScaler, LabelEncoder\n",
        "from sklearn.linear_model import LinearRegression"
      ],
      "execution_count": null,
      "outputs": []
    },
    {
      "cell_type": "markdown",
      "metadata": {
        "id": "mBjIpoSGlCRa"
      },
      "source": [
        "#### Read data"
      ]
    },
    {
      "cell_type": "code",
      "metadata": {
        "id": "6KmwLxynlX7F"
      },
      "source": [
        "#آپلود کردن داده‌ها از کامپیوتر شخصی\n",
        "#uplode file pv_01\n",
        "import io\n",
        "import os\n",
        "from google.colab import drive\n",
        "from google.colab import files\n",
        "uploaded = files.upload()"
      ],
      "execution_count": null,
      "outputs": []
    },
    {
      "cell_type": "code",
      "metadata": {
        "id": "f1hU5Qdmlf4L"
      },
      "source": [
        "for fn in uploaded.keys():\n",
        "  print('User uploaded file \"{name}\" with length {length} bytes'.format(\n",
        "      name=fn, length=len(uploaded[fn])))"
      ],
      "execution_count": null,
      "outputs": []
    },
    {
      "cell_type": "code",
      "metadata": {
        "id": "9hkG59talCRb"
      },
      "source": [
        "data = pd.read_csv(io.StringIO(uploaded['pv_01.csv'].decode('utf-8')),  parse_dates=['time'], index_col = 'time')"
      ],
      "execution_count": null,
      "outputs": []
    },
    {
      "cell_type": "markdown",
      "metadata": {
        "id": "vYDIVOc3lCRd"
      },
      "source": [
        "#### Data vision"
      ]
    },
    {
      "cell_type": "code",
      "metadata": {
        "id": "H0rGv1ySlCRe"
      },
      "source": [
        "data.info()"
      ],
      "execution_count": null,
      "outputs": []
    },
    {
      "cell_type": "code",
      "metadata": {
        "id": "cGbEtgLylCRh"
      },
      "source": [
        "print(data.head())\n",
        "print(data.tail())\n",
        "print(data.shape)\n",
        "print(data.dtypes)"
      ],
      "execution_count": null,
      "outputs": []
    },
    {
      "cell_type": "code",
      "metadata": {
        "id": "ZWlVCvHDlCRk"
      },
      "source": [
        "data.describe()"
      ],
      "execution_count": null,
      "outputs": []
    },
    {
      "cell_type": "markdown",
      "metadata": {
        "id": "7bzNj1cylCRn"
      },
      "source": [
        "#### Feature selection"
      ]
    },
    {
      "cell_type": "code",
      "metadata": {
        "id": "8aYDlXJ9lCRo"
      },
      "source": [
        "data.hist(bins=50, figsize=(15,10))\n",
        "plt.show()"
      ],
      "execution_count": null,
      "outputs": []
    },
    {
      "cell_type": "code",
      "metadata": {
        "id": "9h3hFRwolCRs"
      },
      "source": [
        "corrmat = data.corr()\n",
        "top_corr_features = corrmat.index\n",
        "plt.figure(figsize=(10,10))\n",
        "#plot heat map\n",
        "g=sns.heatmap(data[top_corr_features].corr(),annot=True,cmap=\"RdYlGn\")"
      ],
      "execution_count": null,
      "outputs": []
    },
    {
      "cell_type": "markdown",
      "metadata": {
        "id": "KxlgIFG4lCRv"
      },
      "source": [
        "#### Data processing"
      ]
    },
    {
      "cell_type": "code",
      "metadata": {
        "id": "YolNqBillCRy"
      },
      "source": [
        "#آماده سازی اطلاعات\n",
        "numpy.random.seed(7)\n",
        "df = data.iloc[:, 0:].values\n",
        "scaler = MinMaxScaler(feature_range = (0, 1))\n",
        "pr_df = scaler.fit_transform(df)\n",
        "data = np.array(pr_df)\n",
        "data.shape"
      ],
      "execution_count": null,
      "outputs": []
    },
    {
      "cell_type": "markdown",
      "metadata": {
        "id": "N1PNYSB0lCR1"
      },
      "source": [
        "#### Data spilit"
      ]
    },
    {
      "cell_type": "code",
      "metadata": {
        "id": "Bu2VCbk1lCR1"
      },
      "source": [
        "X = []\n",
        "Y = []\n",
        "for i in range(20, 7300):\n",
        "  X.append(data[i-20:i, 0: ])\n",
        "  Y.append(data[i, 0])\n",
        "X, Y = np.array(X), np.array(Y)\n",
        "print(X.shape)\n",
        "print(Y.shape)"
      ],
      "execution_count": null,
      "outputs": []
    },
    {
      "cell_type": "markdown",
      "metadata": {
        "id": "pOeb9fhzlCR4"
      },
      "source": [
        "### RMSE"
      ]
    },
    {
      "cell_type": "code",
      "metadata": {
        "id": "LIqHGwDwlCR4"
      },
      "source": [
        "from keras import backend as K\n",
        "def root_mean_squared_error(y_true, y_pred):\n",
        "        return K.sqrt(K.mean(K.square(y_pred - y_true)))"
      ],
      "execution_count": null,
      "outputs": []
    },
    {
      "cell_type": "markdown",
      "metadata": {
        "id": "J6ff_KoulCR7"
      },
      "source": [
        "### RAdam"
      ]
    },
    {
      "cell_type": "code",
      "metadata": {
        "id": "Y9ZONlRNlCR8"
      },
      "source": [
        "#کدهای مربوط به بهینه سازی\n",
        "from keras.legacy import interfaces\n",
        "from keras.optimizers import Optimizer\n",
        "import keras.backend as K\n",
        "\n",
        "\n",
        "class RAdam(Optimizer):\n",
        "    \"\"\"RAdam optimizer.\n",
        "    Default parameters follow those provided in the original Adam paper.\n",
        "    # Arguments\n",
        "        lr: float >= 0. Learning rate.\n",
        "        beta_1: float, 0 < beta < 1. Generally close to 1.\n",
        "        beta_2: float, 0 < beta < 1. Generally close to 1.\n",
        "        epsilon: float >= 0. Fuzz factor. If `None`, defaults to `K.epsilon()`.\n",
        "        decay: float >= 0. Learning rate decay over each update.\n",
        "        amsgrad: boolean. Whether to apply the AMSGrad variant of this\n",
        "            algorithm from the paper \"On the Convergence of Adam and\n",
        "            Beyond\".\n",
        "    # References\n",
        "        - [RAdam - A Method for Stochastic Optimization]\n",
        "          (https://arxiv.org/abs/1908.03265)\n",
        "        - [On The Variance Of The Adaptive Learning Rate And Beyond]\n",
        "          (https://arxiv.org/abs/1908.03265)\n",
        "    \"\"\"\n",
        "\n",
        "    def __init__(self, lr=0.001, beta_1=0.9, beta_2=0.999,\n",
        "                 epsilon=None, decay=0., **kwargs):\n",
        "        super(RAdam, self).__init__(**kwargs)\n",
        "        with K.name_scope(self.__class__.__name__):\n",
        "            self.iterations = K.variable(0, dtype='int64', name='iterations')\n",
        "            self.lr = K.variable(lr, name='lr')\n",
        "            self.beta_1 = K.variable(beta_1, name='beta_1')\n",
        "            self.beta_2 = K.variable(beta_2, name='beta_2')\n",
        "            self.decay = K.variable(decay, name='decay')\n",
        "        if epsilon is None:\n",
        "            epsilon = K.epsilon()\n",
        "        self.epsilon = epsilon\n",
        "        self.initial_decay = decay\n",
        "\n",
        "    @interfaces.legacy_get_updates_support\n",
        "    def get_updates(self, loss, params):\n",
        "        grads = self.get_gradients(loss, params)\n",
        "        self.updates = [K.update_add(self.iterations, 1)]\n",
        "\n",
        "        lr = self.lr\n",
        "        if self.initial_decay > 0:\n",
        "            lr = lr * (1. / (1. + self.decay * K.cast(self.iterations,\n",
        "                                                      K.dtype(self.decay))))\n",
        "\n",
        "        t = K.cast(self.iterations, K.floatx()) + 1\n",
        "        beta_1_t = K.pow(self.beta_1, t)\n",
        "        beta_2_t = K.pow(self.beta_2, t)\n",
        "        rho = 2 / (1 - self.beta_2) - 1\n",
        "        rho_t = rho - 2 * t * beta_2_t / (1 - beta_2_t)\n",
        "        r_t = K.sqrt(\n",
        "            K.relu(rho_t - 4) * K.relu(rho_t - 2) * rho / ((rho - 4) * (rho - 2) * rho_t)\n",
        "        )\n",
        "        flag = K.cast(rho_t > 4, K.floatx())\n",
        "\n",
        "        ms = [K.zeros(K.int_shape(p), dtype=K.dtype(p)) for p in params]\n",
        "        vs = [K.zeros(K.int_shape(p), dtype=K.dtype(p)) for p in params]\n",
        "        self.weights = [self.iterations] + ms + vs\n",
        "\n",
        "        for p, g, m, v in zip(params, grads, ms, vs):\n",
        "            m_t = (self.beta_1 * m) + (1. - self.beta_1) * g\n",
        "            v_t = (self.beta_2 * v) + (1. - self.beta_2) * K.square(g)\n",
        "            mhat_t = m_t / (1 - beta_1_t)\n",
        "            vhat_t = K.sqrt(v_t / (1 - beta_2_t))\n",
        "            p_t = p - lr * mhat_t * (flag * r_t / (vhat_t + self.epsilon) + (1 - flag))\n",
        "\n",
        "            self.updates.append(K.update(m, m_t))\n",
        "            self.updates.append(K.update(v, v_t))\n",
        "            new_p = p_t\n",
        "\n",
        "            # Apply constraints.\n",
        "            if getattr(p, 'constraint', None) is not None:\n",
        "                new_p = p.constraint(new_p)\n",
        "\n",
        "            self.updates.append(K.update(p, new_p))\n",
        "        return self.updates\n",
        "\n",
        "    def get_config(self):\n",
        "        config = {'lr': float(K.get_value(self.lr)),\n",
        "                  'beta_1': float(K.get_value(self.beta_1)),\n",
        "                  'beta_2': float(K.get_value(self.beta_2)),\n",
        "                  'decay': float(K.get_value(self.decay)),\n",
        "                  'epsilon': self.epsilon}\n",
        "        base_config = super(RAdam, self).get_config()\n",
        "        return dict(list(base_config.items()) + list(config.items()))"
      ],
      "execution_count": null,
      "outputs": []
    },
    {
      "cell_type": "markdown",
      "metadata": {
        "id": "vGAjG2-4lCR_"
      },
      "source": [
        "### LSTM"
      ]
    },
    {
      "cell_type": "code",
      "metadata": {
        "id": "kCjMyPqTlCSA"
      },
      "source": [
        "#مدل LSTM\n",
        "def fit_model_1(X, Y):\n",
        "  \n",
        "  # define model\n",
        "  model = Sequential()\n",
        "  model.add(LSTM(64, input_shape=(X.shape[1], X.shape[2])))\n",
        "  model.add(Activation('relu'))\n",
        "  model.add(Dropout(0.1))\n",
        "  model.add(Dense(1))\n",
        "  model.compile(optimizer='adam', loss= root_mean_squared_error, metrics=['mae', 'mse'])\n",
        "\n",
        "\n",
        "  \n",
        "  history = model.fit(X, Y, epochs = 100, batch_size = 16, validation_split=0.2)\n",
        "  return model, history"
      ],
      "execution_count": null,
      "outputs": []
    },
    {
      "cell_type": "markdown",
      "metadata": {
        "id": "C13z_krLlCSX"
      },
      "source": [
        "### Training:"
      ]
    },
    {
      "cell_type": "code",
      "metadata": {
        "id": "LomZFFLolCSX"
      },
      "source": [
        "#آموزش مدلها\n",
        "model_1, history_1 = fit_model_1(X, Y)\n",
        "model_1.summary()"
      ],
      "execution_count": null,
      "outputs": []
    },
    {
      "cell_type": "code",
      "metadata": {
        "id": "bbNkQFTxlCSa"
      },
      "source": [
        "#مشخص کردن overfitting\n",
        "pyplot.plot(history_1.history['mean_absolute_error'], label='train')\n",
        "pyplot.plot(history_1.history['val_mean_absolute_error'], label='val')\n",
        "pyplot.legend()\n",
        "plt.xlabel('EPOCH')  \n",
        "plt.ylabel('MAE')\n",
        "pyplot.show()\n",
        "pyplot.plot(history_1.history['loss'], label='train')\n",
        "pyplot.plot(history_1.history['val_loss'], label='val')\n",
        "pyplot.legend()\n",
        "plt.xlabel('EPOCH')  \n",
        "plt.ylabel('RMSE')\n",
        "pyplot.show()"
      ],
      "execution_count": null,
      "outputs": []
    },
    {
      "cell_type": "markdown",
      "metadata": {
        "id": "h_RlMOLZlCSd"
      },
      "source": [
        "### Read train data"
      ]
    },
    {
      "cell_type": "code",
      "metadata": {
        "id": "wAWnEHVfsqB6"
      },
      "source": [
        "#آپلود داده‌های آموزش\n",
        "#uplode file pv_01\n",
        "uploaded1 = files.upload()"
      ],
      "execution_count": null,
      "outputs": []
    },
    {
      "cell_type": "code",
      "metadata": {
        "id": "4OAFNIMFsupQ"
      },
      "source": [
        "for fn in uploaded1.keys():\n",
        "  print('User uploaded file \"{name}\" with length {length} bytes'.format(\n",
        "      name=fn, length=len(uploaded1[fn])))"
      ],
      "execution_count": null,
      "outputs": []
    },
    {
      "cell_type": "code",
      "metadata": {
        "id": "Bvp8Wl0blCSe"
      },
      "source": [
        "# آماده سازی داده‌ها برای پیشبینی\n",
        "pvt = pd.read_csv(io.StringIO(uploaded1['pv_01.csv'].decode('utf-8')))\n",
        "dft = pvt.iloc[:, 1:].values\n",
        "test_inputs = scaler.fit_transform(dft)\n",
        "test_inputs = np.array(test_inputs)\n",
        "print(test_inputs.shape)\n",
        "test_features = []\n",
        "for i in range(20, 7280):\n",
        "  test_features.append(test_inputs[i-20:i, 0: ])\n",
        "test_features = np.array(test_features)\n",
        "test_features = np.reshape(test_features, (test_features.shape[0], test_features.shape[1], test_features.shape[2]))\n",
        "print(test_features.shape) "
      ],
      "execution_count": null,
      "outputs": []
    },
    {
      "cell_type": "markdown",
      "metadata": {
        "id": "7MqA8-smlCSk"
      },
      "source": [
        "### Prediction"
      ]
    },
    {
      "cell_type": "code",
      "metadata": {
        "id": "IPglC8N8lCSl"
      },
      "source": [
        "#پیشبینی مدلها\n",
        "predictions_1 = model_1.predict(test_features, verbose=1) \n",
        "z = scaler.fit_transform(pvt['power (W)'].values.reshape(-1,1))"
      ],
      "execution_count": null,
      "outputs": []
    },
    {
      "cell_type": "markdown",
      "metadata": {
        "id": "5QvMElIalCSo"
      },
      "source": [
        "### test"
      ]
    },
    {
      "cell_type": "code",
      "metadata": {
        "id": "A8lzrrl_lCSp"
      },
      "source": [
        "#آماده سازی داده های مقایسه\n",
        "h = pvt.iloc[20:7280, 1:2].values\n",
        "h = h.reshape(-1,1)\n",
        "h.shape"
      ],
      "execution_count": null,
      "outputs": []
    },
    {
      "cell_type": "code",
      "metadata": {
        "id": "2aA_77EklCSr"
      },
      "source": [
        "#نمودار مربوط به رگرسیون\n",
        "reg = LinearRegression().fit(h, predictions)\n",
        "r_sq = reg.score(h, predictions)\n",
        "plt.scatter(h, predictions,edgecolors=(0, 0, 0))\n",
        "plt.plot(h, reg.predict(h),'k--')\n",
        "plt.show()\n",
        "print('coefficient of determination:', r_sq)\n",
        "print('intercept:', reg.intercept_)\n",
        "print('slope:', reg.coef_)"
      ],
      "execution_count": null,
      "outputs": []
    },
    {
      "cell_type": "code",
      "metadata": {
        "id": "vc8jc_tElCSt"
      },
      "source": [
        "#نمودار مقایسه ای توان واقعی و توان پیش بینی\n",
        "plt.figure(figsize=(18,6))  \n",
        "plt.plot(h[100:200] , color='blue', label='Actual Power')  \n",
        "plt.plot(predictions[100:200] , color='red', label='Predicted Power')  \n",
        "plt.title('Power Prediction')  \n",
        "plt.xlabel('Time')  \n",
        "plt.ylabel('Power(W)')  \n",
        "plt.legend()\n",
        "plt.show()"
      ],
      "execution_count": null,
      "outputs": []
    },
    {
      "cell_type": "code",
      "metadata": {
        "id": "7lMqP5gAlCSw"
      },
      "source": [
        "#محاسبه خطای پیشبینی\n",
        "rmse = sqrt(mean_squared_error(h, predictions))\n",
        "print('Test RMSE: %.6f' % rmse)\n",
        "mse = mean_squared_error(h, predictions)\n",
        "print('Test MSE: %.6f' % mse)\n",
        "from sklearn.metrics import mean_absolute_error\n",
        "mae = mean_absolute_error(h, predictions)\n",
        "print('Test MAE: %.6f' % mae)\n",
        "from sklearn.metrics import r2_score\n",
        "r2 = r2_score(h, predictions)\n",
        "print('Test R^2: %.6f' % r2)\n",
        "from sklearn.metrics import explained_variance_score\n",
        "variance = explained_variance_score(h, predictions)\n",
        "print('Test Variance: %6f' % variance)"
      ],
      "execution_count": null,
      "outputs": []
    }
  ]
}